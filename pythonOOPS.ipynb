{
  "nbformat": 4,
  "nbformat_minor": 0,
  "metadata": {
    "colab": {
      "provenance": []
    },
    "kernelspec": {
      "name": "python3",
      "display_name": "Python 3"
    },
    "language_info": {
      "name": "python"
    }
  },
  "cells": [
    {
      "cell_type": "code",
      "execution_count": null,
      "metadata": {
        "id": "bd22VSLEhfBH"
      },
      "outputs": [],
      "source": []
    },
    {
      "cell_type": "markdown",
      "source": [
        "#1.What is Object-Oriented Programming (OOP)?\n",
        "-> Object-Oriented Programming (OOP) is a programming paradigm based on the concept of \"objects\", which can contain data (fields, often known as attributes or properties) and code (procedures, often known as methods).\n",
        "\n",
        "The main idea is to structure software so that it's easier to manage, reuse, and scale. OOP is especially helpful when modeling complex systems.\n",
        "#2.What is a class in OOP?\n",
        "->In Object-Oriented Programming (OOP), a class is essentially a blueprint or template for creating objects. It defines the structure and behavior that the objects created from it will have.\n",
        "\n",
        "Key Components of a Class:\n",
        "###Attributes (Properties or Fields):\n",
        "\n",
        " >These are variables that hold the state or data of an object.\n",
        "\n",
        " >Example: name, age, color\n",
        "\n",
        "###Methods (Functions inside the class):\n",
        "\n",
        " >These define the behavior or actions that the objects can perform.\n",
        "\n",
        " >Example: speak(), move(), calculate_salary()\n",
        "#3.What is an object in OOP?\n",
        "->In Object-Oriented Programming (OOP), an object is an instance of a class. While a class is just a blueprint, an object is the real thing created from that blueprint, with actual values stored in its attributes and the ability to perform actions using its methods.\n",
        "#4.What is the difference between abstraction and encapsulation?\n",
        "->The primary difference between abstraction and encapsulation is that abstraction is a design level process that focuses on hiding the complex details and implementation of the code. In contrast, encapsulation is an implementation level process that focuses on hiding the data and controlling the visibility of the code.\n",
        "#5.What are dunder methods in Python?\n",
        "->Dunder methods (short for double underscore methods) in Python are special methods that start and end with double underscores (__). These methods are often referred to as magic methods or special methods, and they allow you to define how objects of your class behave when used with Python's built-in operators and functions.\n",
        "\n",
        "\n"
      ],
      "metadata": {
        "id": "w6sIYbz4hgXB"
      }
    },
    {
      "cell_type": "code",
      "source": [
        "class Person:\n",
        "    def __init__(self, name, age):\n",
        "        self.name = name\n",
        "        self.age = age\n",
        "\n",
        "p = Person(\"Alice\", 30)\n"
      ],
      "metadata": {
        "id": "M5O6gDGjn1Pk"
      },
      "execution_count": 2,
      "outputs": []
    },
    {
      "cell_type": "code",
      "source": [
        "class MyClass:\n",
        "    def __init__(self, value):\n",
        "        self.value = value\n",
        "\n",
        "    def __str__(self):\n",
        "        return f\"MyClass with value: {self.value}\"\n",
        "\n",
        "    def __add__(self, other):\n",
        "        return MyClass(self.value + other.value)\n",
        "\n",
        "# Creating objects\n",
        "obj1 = MyClass(5)\n",
        "obj2 = MyClass(3)\n",
        "\n",
        "print(obj1)  # Calls __str__\n",
        "obj3 = obj1 + obj2  # Calls __add__\n",
        "print(obj3)  # Calls __str__\n"
      ],
      "metadata": {
        "colab": {
          "base_uri": "https://localhost:8080/"
        },
        "id": "gYRs8FAk-Jsn",
        "outputId": "3f1052af-9996-451c-bf4b-42e01e8ed6f8"
      },
      "execution_count": 1,
      "outputs": [
        {
          "output_type": "stream",
          "name": "stdout",
          "text": [
            "MyClass with value: 5\n",
            "MyClass with value: 8\n"
          ]
        }
      ]
    },
    {
      "cell_type": "markdown",
      "source": [
        "#6.Explain the concept of inheritance in OOP?\n",
        "->In Object-Oriented Programming (OOP), inheritance is a mechanism that allows one class (called a child class or subclass) to acquire the properties and behaviors (i.e., fields and methods) of another class (called the parent class or superclass). This allows for code reusability, easier maintenance, and a more logical structure of the program.\n",
        "\n",
        "Key Points of Inheritance:\n",
        "###Code Reusability:\n",
        " Inheritance allows a child class to reuse code from its parent class. This means you don't have to rewrite common functionality that's already implemented in the parent class.\n",
        "\n",
        "###Extensibility:\n",
        " A subclass can extend the functionality of a parent class by adding more specific methods or overriding the inherited methods to provide specialized behavior.\n",
        "\n",
        "###Hierarchical Structure:\n",
        " Inheritance helps create a hierarchy of classes. The parent class provides a general template, and child classes add specific behaviors or data, making your design more organized and modular."
      ],
      "metadata": {
        "id": "w78oXJ53oDiq"
      }
    },
    {
      "cell_type": "markdown",
      "source": [
        "#7.What is polymorphism in OOP?\n",
        "->Polymorphism in Object-Oriented Programming (OOP) refers to the ability of different classes to respond to the same method or function call in their own way. In simple terms, it allows objects of different types to be treated as if they are of the same type, typically through a common interface or superclass.\n",
        "#8.How is encapsulation achieved in Python?\n",
        "->Encapsulation in Python is a fundamental concept of Object-Oriented Programming (OOP) that restricts direct access to some of an object's attributes and methods. This is done to protect the object's internal state and ensure that its data is used in a controlled manner. In Python, encapsulation is typically achieved through the use of private and public attributes or methods.\n",
        "###Public attributes:\n",
        " Accessed directly (no restrictions).\n",
        "###Protected attributes:\n",
        " Indicated by a single underscore (_), meant for internal use, but still accessible.\n",
        "###Private attributes:\n",
        "Indicated by double underscores (__), making it harder (but not impossible) to access outside the class.\n",
        "###Property decorators:\n",
        " Used to create getter and setter methods to control access and modification of attributes.\n",
        "\n",
        "#9.What is a constructor in Python?\n",
        "->In Python, a constructor is a special method used to initialize objects when a class is created. It allows you to set up the initial state of an object by assigning values to its properties.\n",
        "\n",
        "The constructor in Python is:\n"
      ],
      "metadata": {
        "id": "1wjzi_BopV09"
      }
    },
    {
      "cell_type": "code",
      "source": [
        "__init__()\n"
      ],
      "metadata": {
        "id": "SzmSmtb9-vXm"
      },
      "execution_count": null,
      "outputs": []
    },
    {
      "cell_type": "markdown",
      "source": [
        "#example:"
      ],
      "metadata": {
        "id": "KknAbahl-zsk"
      }
    },
    {
      "cell_type": "code",
      "source": [
        "class Person:\n",
        "    def __init__(self, name, age):  # Constructor\n",
        "        self.name = name\n",
        "        self.age = age\n",
        "\n",
        "# Creating an object\n",
        "p = Person(\"Alice\", 30)\n",
        "\n",
        "print(p.name)  # Output: Alice\n",
        "print(p.age)   # Output: 30\n"
      ],
      "metadata": {
        "id": "P8iPTrU1-xMB"
      },
      "execution_count": null,
      "outputs": []
    },
    {
      "cell_type": "markdown",
      "source": [],
      "metadata": {
        "id": "_mtj-el_-5bf"
      }
    },
    {
      "cell_type": "markdown",
      "source": [
        "#10.What are class and static methods in Python?\n",
        "->In Python, a static method is a function within a class that doesn't have access to the class or instance state, while a class method is bound to the class itself (accessed via the class name) and receives the class as its first argument (cls).\n",
        "#11.What is method overloading in Python?\n",
        "->In Python, method overloading, while not directly supported like in some other languages, is achieved through techniques like default arguments and variable-length arguments, allowing a single function to handle different inputs and behaviors.\n",
        "#12.What is method overriding in OOP?\n",
        "->In Object-Oriented Programming (OOP), method overriding allows a subclass to provide a specific implementation for a method that is already defined in its superclass, enabling specialized behavior while maintaining the same method signature.\n",
        "#13.What is a property decorator in Python?\n",
        "->The Python property decorator makes attributes in a class act like read-only properties. Essentially, it lets you access methods as if they were attributes, without needing to write parentheses.\n",
        "#14.Why is polymorphism important in OOP?\n",
        "->Polymorphism is crucial in Object-Oriented Programming (OOP) because it enables code reusability, flexibility, and maintainability by allowing objects of different classes to be treated as objects of a common type, promoting adaptable and modular software systems\n",
        "#15.What is an abstract class in Python?\n",
        "In Python, an abstract class is a blueprint for other classes, designed to be subclassed but not instantiated directly, containing one or more abstract methods (methods without implementation) that must be implemented by its subclasses.\n",
        "#16.What are the advantages of OOP?\n",
        "->Object-Oriented Programming (OOP) offers advantages like improved code organization, reusability through inheritance, enhanced flexibility with polymorphism, and simplification of complex systems through abstraction, leading to modular, maintainable, and scalable software solutions\n",
        "#17.What is the difference between a class variable and an instance variable?\n",
        "->Class variables (also known as static variables) are shared among all instances of a class, meaning they have one copy for the entire class. Instance variables, on the other hand, are specific to each individual object (instance) of a class, with each object having its own separate copy\n",
        "#18.What is multiple inheritance in Python?\n",
        "->In Python, multiple inheritance allows a class (the child class) to inherit attributes and methods from multiple parent classes. This means a child class can inherit properties from more than one base class, combining their functionalities.\n",
        "#19.Explain the purpose of ‘’__str__’ and ‘__repr__’ ‘ methods in Python?\n",
        "->In Python, __str__ and __repr__ are special methods used to define how objects are represented as strings. __str__ is for a human-readable, informal representation (e.g., for users), while __repr__ provides a more formal, developer-focused representation that can often be used to recreate the object.\n",
        "#20.What is the significance of the ‘super()’ function in Python?\n",
        "->In Python, the super() function is a built-in function that allows a subclass to access and call methods of its parent (or super) class, facilitating inheritance and code reusability.\n",
        "#21.What is the significance of the __del__ method in Python?\n",
        "->In Python, the __del__() method is a destructor that's automatically called by the garbage collector when an object's reference count reaches zero, signaling that the object is about to be destroyed. It's primarily used for cleaning up resources or performing final actions before an object is deallocated, though its reliability can be affected by the garbage collector's timing.\n",
        "#22.What is the difference between @staticmethod and @classmethod in Python?\n",
        "->n Python, @classmethod binds a method to the class, allowing access to the class itself (via cls), while @staticmethod defines a method that belongs to the class but doesn't have access to either the class or instance.\n",
        "#23.How does polymorphism work in Python with inheritance?\n",
        "->In Python, polymorphism with inheritance works through method overriding, where child classes can redefine methods inherited from parent classes, allowing the same method name to have different implementations based on the object type.\n",
        "#24.What is method chaining in Python OOP?\n",
        "->Method chaining in Python allows you to call multiple methods on the same object in a single line of code, improving readability and conciseness. It's achieved by having methods return the object itself (usually self), allowing subsequent method calls to be chained using the dot notation.\n",
        "#25.What is the purpose of the __call__ method in Python?\n",
        "->The purpose of the __call__ method in Python is to make instances of a class callable, allowing them to be invoked like functions. When you define a __call__ method within a class, you enable instances of that class to be called using parentheses, as if they were functions"
      ],
      "metadata": {
        "id": "-_vvxatv-9q8"
      }
    },
    {
      "cell_type": "markdown",
      "source": [
        "#PRACTICAL QUESTIONS:\n"
      ],
      "metadata": {
        "id": "fgRkCtb6DPdk"
      }
    },
    {
      "cell_type": "code",
      "source": [
        "#1. Create a parent class Animal with a method speak() that prints a generic message. Create a child class Dog that overrides the speak() method to print \"Bark!\".\n",
        "#ans:\n",
        "# Parent class\n",
        "class Animal:\n",
        "    def speak(self):\n",
        "        print(\"The animal makes a sound.\")\n",
        "\n",
        "# Child class\n",
        "class Dog(Animal):\n",
        "    def speak(self):\n",
        "        print(\"Bark!\")\n",
        "\n",
        "# Example usage\n",
        "generic_animal = Animal()\n",
        "generic_animal.speak()  # Output: The animal makes a sound.\n",
        "\n",
        "dog = Dog()\n",
        "dog.speak()  # Output: Bark!\n"
      ],
      "metadata": {
        "colab": {
          "base_uri": "https://localhost:8080/"
        },
        "id": "88IyzhZADWac",
        "outputId": "c24e0b3f-29f8-4dcd-d6ce-cd4071734a20"
      },
      "execution_count": 5,
      "outputs": [
        {
          "output_type": "stream",
          "name": "stdout",
          "text": [
            "The animal makes a sound.\n",
            "Bark!\n"
          ]
        }
      ]
    },
    {
      "cell_type": "code",
      "source": [
        "#2. Write a program to create an abstract class Shape with a method area(). Derive classes Circle and Rectangle from it and implement the area() method in both.\n",
        "#ans\n",
        "from abc import ABC, abstractmethod\n",
        "import math\n",
        "\n",
        "# Abstract base class\n",
        "class Shape(ABC):\n",
        "    @abstractmethod\n",
        "    def area(self):\n",
        "        pass\n",
        "\n",
        "# Circle class\n",
        "class Circle(Shape):\n",
        "    def __init__(self, radius):\n",
        "        self.radius = radius\n",
        "\n",
        "    def area(self):\n",
        "        return math.pi * self.radius ** 2\n",
        "\n",
        "# Rectangle class\n",
        "class Rectangle(Shape):\n",
        "    def __init__(self, width, height):\n",
        "        self.width = width\n",
        "        self.height = height\n",
        "\n",
        "    def area(self):\n",
        "        return self.width * self.height\n",
        "\n",
        "# Example usage\n",
        "circle = Circle(5)\n",
        "print(f\"Circle area: {circle.area():.2f}\")  # Output: Circle area: 78.54\n",
        "\n",
        "rectangle = Rectangle(4, 6)\n",
        "print(f\"Rectangle area: {rectangle.area():.2f}\")  # Output: Rectangle area: 24.00\n"
      ],
      "metadata": {
        "colab": {
          "base_uri": "https://localhost:8080/"
        },
        "id": "xdqgwlIPECNb",
        "outputId": "eafe7c07-ea72-43af-97ec-54c17cd646cd"
      },
      "execution_count": 6,
      "outputs": [
        {
          "output_type": "stream",
          "name": "stdout",
          "text": [
            "Circle area: 78.54\n",
            "Rectangle area: 24.00\n"
          ]
        }
      ]
    },
    {
      "cell_type": "code",
      "source": [
        "#3. Implement a multi-level inheritance scenario where a class Vehicle has an attribute type. Derive a class Car and further derive a class ElectricCar that adds a battery attribute.\n",
        "#ans\n",
        "# Base class\n",
        "class Vehicle:\n",
        "    def __init__(self, vehicle_type):\n",
        "        self.type = vehicle_type\n",
        "\n",
        "    def display_info(self):\n",
        "        print(f\"Vehicle Type: {self.type}\")\n",
        "\n",
        "# Derived class from Vehicle\n",
        "class Car(Vehicle):\n",
        "    def __init__(self, vehicle_type, brand):\n",
        "        super().__init__(vehicle_type)\n",
        "        self.brand = brand\n",
        "\n",
        "    def display_info(self):\n",
        "        super().display_info()\n",
        "        print(f\"Car Brand: {self.brand}\")\n",
        "\n",
        "# Further derived class from Car\n",
        "class ElectricCar(Car):\n",
        "    def __init__(self, vehicle_type, brand, battery_capacity):\n",
        "        super().__init__(vehicle_type, brand)\n",
        "        self.battery = battery_capacity\n",
        "\n",
        "    def display_info(self):\n",
        "        super().display_info()\n",
        "        print(f\"Battery Capacity: {self.battery} kWh\")\n",
        "\n",
        "# Example usage\n",
        "my_electric_car = ElectricCar(\"Sedan\", \"Tesla\", 75)\n",
        "my_electric_car.display_info()\n"
      ],
      "metadata": {
        "colab": {
          "base_uri": "https://localhost:8080/"
        },
        "id": "eQplADMXEf4T",
        "outputId": "84451bad-aa91-4378-c2f5-88115d77d4c1"
      },
      "execution_count": 7,
      "outputs": [
        {
          "output_type": "stream",
          "name": "stdout",
          "text": [
            "Vehicle Type: Sedan\n",
            "Car Brand: Tesla\n",
            "Battery Capacity: 75 kWh\n"
          ]
        }
      ]
    },
    {
      "cell_type": "code",
      "source": [
        "#4. Demonstrate polymorphism by creating a base class Bird with a method fly(). Create two derived classes Sparrow and Penguin that override the fly() method.\n",
        "#ans\n",
        "# Base class\n",
        "class Bird:\n",
        "    def fly(self):\n",
        "        print(\"Bird is flying\")\n",
        "\n",
        "# Derived class\n",
        "class Sparrow(Bird):\n",
        "    def fly(self):\n",
        "        print(\"Sparrow flies high in the sky!\")\n",
        "\n",
        "# Derived class\n",
        "class Penguin(Bird):\n",
        "    def fly(self):\n",
        "        print(\"Penguins can't fly, they swim instead.\")\n",
        "\n",
        "# Function demonstrating polymorphism\n",
        "def bird_fly_test(bird):\n",
        "    bird.fly()\n",
        "\n",
        "# Create objects\n",
        "sparrow = Sparrow()\n",
        "penguin = Penguin()\n",
        "\n",
        "# Test polymorphism\n",
        "bird_fly_test(sparrow)\n",
        "bird_fly_test(penguin)\n"
      ],
      "metadata": {
        "colab": {
          "base_uri": "https://localhost:8080/"
        },
        "id": "3DB7vKyCv-PJ",
        "outputId": "870ac7cf-3b7b-4e55-ee71-3b217470c03d"
      },
      "execution_count": 1,
      "outputs": [
        {
          "output_type": "stream",
          "name": "stdout",
          "text": [
            "Sparrow flies high in the sky!\n",
            "Penguins can't fly, they swim instead.\n"
          ]
        }
      ]
    },
    {
      "cell_type": "code",
      "source": [
        "#5. Write a program to demonstrate encapsulation by creating a class BankAccount with private attributes balance and methods to deposit, withdraw, and check balance.\n",
        "#ans\n",
        "class BankAccount:\n",
        "    def __init__(self, initial_balance=0):\n",
        "        # Private attribute\n",
        "        self.__balance = initial_balance\n",
        "\n",
        "    # Public method to deposit money\n",
        "    def deposit(self, amount):\n",
        "        if amount > 0:\n",
        "            self.__balance += amount\n",
        "            print(f\"Deposited: ${amount}\")\n",
        "        else:\n",
        "            print(\"Deposit amount must be positive.\")\n",
        "\n",
        "    # Public method to withdraw money\n",
        "    def withdraw(self, amount):\n",
        "        if 0 < amount <= self.__balance:\n",
        "            self.__balance -= amount\n",
        "            print(f\"Withdrawn: ${amount}\")\n",
        "        else:\n",
        "            print(\"Insufficient balance or invalid amount.\")\n",
        "\n",
        "    # Public method to check balance\n",
        "    def check_balance(self):\n",
        "        print(f\"Current balance: ${self.__balance}\")\n",
        "\n",
        "# ---- Example usage ----\n",
        "account = BankAccount(100)\n",
        "account.check_balance()\n",
        "account.deposit(50)\n",
        "account.withdraw(30)\n",
        "account.check_balance()\n",
        "\n",
        "# Trying to access the private attribute (will raise AttributeError)\n",
        "# print(account.__balance)  # Uncommenting this will raise an error\n"
      ],
      "metadata": {
        "colab": {
          "base_uri": "https://localhost:8080/"
        },
        "id": "h22aSG7iwLup",
        "outputId": "b57f2c1e-009e-4733-ab15-7f1e7440a662"
      },
      "execution_count": 2,
      "outputs": [
        {
          "output_type": "stream",
          "name": "stdout",
          "text": [
            "Current balance: $100\n",
            "Deposited: $50\n",
            "Withdrawn: $30\n",
            "Current balance: $120\n"
          ]
        }
      ]
    },
    {
      "cell_type": "code",
      "source": [
        "#6.. Demonstrate runtime polymorphism using a method play() in a base class Instrument. Derive classes Guitar and Piano that implement their own version of play().\n",
        "#ans\n",
        "class Instrument:\n",
        "    def play(self):\n",
        "        print(\"Playing an instrument\")\n",
        "\n",
        "class Guitar(Instrument):\n",
        "    def play(self):\n",
        "        print(\"Strumming the guitar 🎸\")\n",
        "\n",
        "class Piano(Instrument):\n",
        "    def play(self):\n",
        "        print(\"Playing the piano 🎹\")\n",
        "\n",
        "# ---- Example usage ----\n",
        "def start_playing(instrument):\n",
        "    instrument.play()  # This demonstrates runtime polymorphism\n",
        "\n",
        "# Creating objects of derived classes\n",
        "guitar = Guitar()\n",
        "piano = Piano()\n",
        "\n",
        "# Passing different objects to the same function\n",
        "start_playing(guitar)  # Output: Strumming the guitar 🎸\n",
        "start_playing(piano)   # Output: Playing the piano 🎹\n"
      ],
      "metadata": {
        "colab": {
          "base_uri": "https://localhost:8080/"
        },
        "id": "BqnEAyrUwkYd",
        "outputId": "97f4d908-a664-4f05-a0af-4a269d7e79f2"
      },
      "execution_count": 3,
      "outputs": [
        {
          "output_type": "stream",
          "name": "stdout",
          "text": [
            "Strumming the guitar 🎸\n",
            "Playing the piano 🎹\n"
          ]
        }
      ]
    },
    {
      "cell_type": "code",
      "source": [
        "#7.Create a class MathOperations with a class method add_numbers() to add two numbers and a static method subtract_numbers() to subtract two numbers.\n",
        "#ans\n",
        "class MathOperations:\n",
        "    @classmethod\n",
        "    def add_numbers(cls, a, b):\n",
        "        return a + b\n",
        "\n",
        "    @staticmethod\n",
        "    def subtract_numbers(a, b):\n",
        "        return a - b\n",
        "\n",
        "# ---- Example usage ----\n",
        "# Using class method\n",
        "sum_result = MathOperations.add_numbers(10, 5)\n",
        "print(f\"Sum: {sum_result}\")  # Output: Sum: 15\n",
        "\n",
        "# Using static method\n",
        "diff_result = MathOperations.subtract_numbers(10, 5)\n",
        "print(f\"Difference: {diff_result}\")  # Output: Difference: 5\n"
      ],
      "metadata": {
        "colab": {
          "base_uri": "https://localhost:8080/"
        },
        "id": "kNvuVi3QxAX7",
        "outputId": "3f9ef687-0336-410a-db93-abda76f4e552"
      },
      "execution_count": 4,
      "outputs": [
        {
          "output_type": "stream",
          "name": "stdout",
          "text": [
            "Sum: 15\n",
            "Difference: 5\n"
          ]
        }
      ]
    },
    {
      "cell_type": "code",
      "source": [
        "#8.. Implement a class Person with a class method to count the total number of persons created.\n",
        "#ans\n",
        "class Person:\n",
        "    # Class variable to count persons\n",
        "    person_count = 0\n",
        "\n",
        "    def __init__(self, name):\n",
        "        self.name = name\n",
        "        Person.person_count += 1  # Increment count when a new person is created\n",
        "\n",
        "    @classmethod\n",
        "    def get_person_count(cls):\n",
        "        return cls.person_count\n",
        "\n",
        "# ---- Example usage ----\n",
        "p1 = Person(\"Alice\")\n",
        "p2 = Person(\"Bob\")\n",
        "p3 = Person(\"Charlie\")\n",
        "\n",
        "print(f\"Total persons created: {Person.get_person_count()}\")  # Output: 3\n"
      ],
      "metadata": {
        "colab": {
          "base_uri": "https://localhost:8080/"
        },
        "id": "EfpM_RVoxNpV",
        "outputId": "79a13d56-028b-466d-e394-a0f8f05d7602"
      },
      "execution_count": 5,
      "outputs": [
        {
          "output_type": "stream",
          "name": "stdout",
          "text": [
            "Total persons created: 3\n"
          ]
        }
      ]
    },
    {
      "cell_type": "code",
      "source": [
        "#9.Write a class Fraction with attributes numerator and denominator. Override the str method to display the fraction as \"numerator/denominator\".\n",
        "#ans\n",
        "class Fraction:\n",
        "    def __init__(self, numerator, denominator):\n",
        "        self.numerator = numerator\n",
        "        self.denominator = denominator\n",
        "\n",
        "    def __str__(self):\n",
        "        return f\"{self.numerator}/{self.denominator}\"\n",
        "\n",
        "# ---- Example usage ----\n",
        "f1 = Fraction(3, 4)\n",
        "f2 = Fraction(7, 2)\n",
        "\n",
        "print(f\"Fraction 1: {f1}\")  # Output: 3/4\n",
        "print(f\"Fraction 2: {f2}\")  # Output: 7/2\n"
      ],
      "metadata": {
        "colab": {
          "base_uri": "https://localhost:8080/"
        },
        "id": "K16zGd6NxcCL",
        "outputId": "6bd23cfb-9d22-4b3e-e0ed-5f1b65c1f447"
      },
      "execution_count": 6,
      "outputs": [
        {
          "output_type": "stream",
          "name": "stdout",
          "text": [
            "Fraction 1: 3/4\n",
            "Fraction 2: 7/2\n"
          ]
        }
      ]
    },
    {
      "cell_type": "code",
      "source": [
        "#10.Demonstrate operator overloading by creating a class Vector and overriding the add method to add two vectors.\n",
        "#ans\n",
        "class Vector:\n",
        "    def __init__(self, x, y):\n",
        "        self.x = x\n",
        "        self.y = y\n",
        "\n",
        "    # Overloading the + operator\n",
        "    def __add__(self, other):\n",
        "        return Vector(self.x + other.x, self.y + other.y)\n",
        "\n",
        "    def __str__(self):\n",
        "        return f\"Vector({self.x}, {self.y})\"\n",
        "\n",
        "# ---- Example usage ----\n",
        "v1 = Vector(2, 3)\n",
        "v2 = Vector(4, 5)\n",
        "v3 = v1 + v2  # This uses the overloaded __add__ method\n",
        "\n",
        "print(f\"Vector 1: {v1}\")\n",
        "print(f\"Vector 2: {v2}\")\n",
        "print(f\"Sum of vectors: {v3}\")  # Output: Vector(6, 8)\n",
        "\n"
      ],
      "metadata": {
        "colab": {
          "base_uri": "https://localhost:8080/"
        },
        "id": "akxXf2GdxlLU",
        "outputId": "3017d05c-eb37-4ae1-c63a-2429820cb0ee"
      },
      "execution_count": 7,
      "outputs": [
        {
          "output_type": "stream",
          "name": "stdout",
          "text": [
            "Vector 1: Vector(2, 3)\n",
            "Vector 2: Vector(4, 5)\n",
            "Sum of vectors: Vector(6, 8)\n"
          ]
        }
      ]
    },
    {
      "cell_type": "code",
      "source": [
        "#11.Create a class Person with attributes name and age. Add a method greet() that prints \"Hello, my name is {name} and I am {age} years old.\"\n",
        "#ans\n",
        "class Person:\n",
        "    def __init__(self, name, age):\n",
        "        self.name = name\n",
        "        self.age = age\n",
        "\n",
        "    def greet(self):\n",
        "        print(f\"Hello, my name is {self.name} and I am {self.age} years old.\")\n",
        "\n",
        "# ---- Example usage ----\n",
        "p1 = Person(\"Alice\", 25)\n",
        "p2 = Person(\"Bob\", 30)\n",
        "\n",
        "p1.greet()  # Output: Hello, my name is Alice and I am 25 years old.\n",
        "p2.greet()\n"
      ],
      "metadata": {
        "colab": {
          "base_uri": "https://localhost:8080/"
        },
        "id": "ztR0_XlTxwlO",
        "outputId": "c1b16f66-9845-48f1-892e-02802099570c"
      },
      "execution_count": 10,
      "outputs": [
        {
          "output_type": "stream",
          "name": "stdout",
          "text": [
            "Hello, my name is Alice and I am 25 years old.\n",
            "Hello, my name is Bob and I am 30 years old.\n"
          ]
        }
      ]
    },
    {
      "cell_type": "code",
      "source": [
        "#12. Implement a class Student with attributes name and grades. Create a method average_grade() to compute the average of the grades.\n",
        "#ans\n",
        "class Student:\n",
        "    def __init__(self, name, grades):\n",
        "        self.name = name\n",
        "        self.grades = grades  # grades should be a list of numbers\n",
        "\n",
        "    def average_grade(self):\n",
        "        if not self.grades:\n",
        "            return 0\n",
        "        return sum(self.grades) / len(self.grades)\n",
        "\n",
        "# ---- Example usage ----\n",
        "s1 = Student(\"Alice\", [85, 90, 78])\n",
        "s2 = Student(\"Bob\", [72, 88, 91, 65])\n",
        "\n",
        "print(f\"{s1.name}'s average grade: {s1.average_grade():.2f}\")\n",
        "print(f\"{s2.name}'s average grade: {s2.average_grade():.2f}\")\n",
        "\n",
        "\n",
        "\n",
        ""
      ],
      "metadata": {
        "colab": {
          "base_uri": "https://localhost:8080/"
        },
        "id": "hLEJNJoyyRi8",
        "outputId": "95489d1f-030e-40dc-cc87-e7562b0d193e"
      },
      "execution_count": 13,
      "outputs": [
        {
          "output_type": "stream",
          "name": "stdout",
          "text": [
            "Alice's average grade: 84.33\n",
            "Bob's average grade: 79.00\n"
          ]
        }
      ]
    },
    {
      "cell_type": "code",
      "source": [
        "#13.Create a class Rectangle with methods set_dimensions() to set the dimensions and area() to calculate the area.\n",
        "#ans\n",
        "class Rectangle:\n",
        "    def __init__(self):\n",
        "        self.length = 0\n",
        "        self.width = 0\n",
        "\n",
        "    def set_dimensions(self, length, width):\n",
        "        self.length = length\n",
        "        self.width = width\n",
        "\n",
        "    def area(self):\n",
        "        return self.length * self.width\n",
        "\n",
        "# ---- Example usage ----\n",
        "rect = Rectangle()\n",
        "rect.set_dimensions(5, 3)\n",
        "print(f\"Area of rectangle: {rect.area()}\")  # Output: Area of rectangle: 15\n"
      ],
      "metadata": {
        "colab": {
          "base_uri": "https://localhost:8080/"
        },
        "id": "f33Fk6rMyyAW",
        "outputId": "9a6769d2-858d-43b0-acdc-5e86953ffdf4"
      },
      "execution_count": 14,
      "outputs": [
        {
          "output_type": "stream",
          "name": "stdout",
          "text": [
            "Area of rectangle: 15\n"
          ]
        }
      ]
    },
    {
      "cell_type": "code",
      "source": [
        " #14.Create a class Employee with a method calculate_salary() that computes the salary based on hours worked and hourly rate. Create a derived class Manager that adds a bonus to the salary.\n",
        " #ans.\n",
        " class Employee:\n",
        "    def __init__(self, name, hours_worked, hourly_rate):\n",
        "        self.name = name\n",
        "        self.hours_worked = hours_worked\n",
        "        self.hourly_rate = hourly_rate\n",
        "\n",
        "    def calculate_salary(self):\n",
        "        return self.hours_worked * self.hourly_rate\n",
        "\n",
        "class Manager(Employee):\n",
        "    def __init__(self, name, hours_worked, hourly_rate, bonus):\n",
        "        super().__init__(name, hours_worked, hourly_rate)\n",
        "        self.bonus = bonus\n",
        "\n",
        "    # Overriding calculate_salary to add bonus for Manager\n",
        "    def calculate_salary(self):\n",
        "        base_salary = super().calculate_salary()\n",
        "        return base_salary + self.bonus\n",
        "\n",
        "# ---- Example usage ----\n",
        "employee = Employee(\"Alice\", 40, 15)  # 40 hours at $15/hour\n",
        "manager = Manager(\"Bob\", 40, 20, 500)  # 40 hours at $20/hour + $500 bonus\n",
        "\n",
        "print(f\"{employee.name}'s salary: ${employee.calculate_salary()}\")\n",
        "print(f\"{manager.name}'s salary: ${manager.calculate_salary()}\")\n"
      ],
      "metadata": {
        "colab": {
          "base_uri": "https://localhost:8080/"
        },
        "id": "eyjTXOo7zBa5",
        "outputId": "478b760b-c88e-4284-fc2f-314bfd2bf47d"
      },
      "execution_count": 15,
      "outputs": [
        {
          "output_type": "stream",
          "name": "stdout",
          "text": [
            "Alice's salary: $600\n",
            "Bob's salary: $1300\n"
          ]
        }
      ]
    },
    {
      "cell_type": "code",
      "source": [
        "# 15. Create a class Product with attributes name, price, and quantity. Implement a method total_price() that calculates the total price of the product.\n",
        "#ans\n",
        "class Product:\n",
        "    def __init__(self, name, price, quantity):\n",
        "        self.name = name\n",
        "        self.price = price\n",
        "        self.quantity = quantity\n",
        "\n",
        "    def total_price(self):\n",
        "        return self.price * self.quantity\n",
        "\n",
        "# ---- Example usage ----\n",
        "product1 = Product(\"Laptop\", 1000, 3)\n",
        "product2 = Product(\"Smartphone\", 600, 5)\n",
        "\n",
        "print(f\"Total price of {product1.name}: ${product1.total_price()}\")\n",
        "print(f\"Total price of {product2.name}: ${product2.total_price()}\")\n",
        "\n"
      ],
      "metadata": {
        "colab": {
          "base_uri": "https://localhost:8080/"
        },
        "id": "Rg_V13fWzUk1",
        "outputId": "24b32442-abbf-4c4a-affa-aa5cfa79b0a5"
      },
      "execution_count": 16,
      "outputs": [
        {
          "output_type": "stream",
          "name": "stdout",
          "text": [
            "Total price of Laptop: $3000\n",
            "Total price of Smartphone: $3000\n"
          ]
        }
      ]
    },
    {
      "cell_type": "code",
      "source": [
        "#16.Create a class Animal with an abstract method sound(). Create two derived classes Cow and Sheep that implement the sound() method.\n",
        "#ans\n",
        "from abc import ABC, abstractmethod\n",
        "\n",
        "# Abstract Base Class\n",
        "class Animal(ABC):\n",
        "    @abstractmethod\n",
        "    def sound(self):\n",
        "        pass\n",
        "\n",
        "# Derived class Cow\n",
        "class Cow(Animal):\n",
        "    def sound(self):\n",
        "        print(\"Moo\")\n",
        "\n",
        "# Derived class Sheep\n",
        "class Sheep(Animal):\n",
        "    def sound(self):\n",
        "        print(\"Baa\")\n",
        "\n",
        "# ---- Example usage ----\n",
        "cow = Cow()\n",
        "sheep = Sheep()\n",
        "\n",
        "cow.sound()  # Output: Moo\n",
        "sheep.sound()  # Output: Baa\n",
        "\n"
      ],
      "metadata": {
        "colab": {
          "base_uri": "https://localhost:8080/"
        },
        "id": "zdG_ebLrzxOy",
        "outputId": "8131380d-5f42-44d5-a0e1-d00debf42380"
      },
      "execution_count": 17,
      "outputs": [
        {
          "output_type": "stream",
          "name": "stdout",
          "text": [
            "Moo\n",
            "Baa\n"
          ]
        }
      ]
    },
    {
      "cell_type": "code",
      "source": [
        "#17.Create a class Book with attributes title, author, and year_published. Add a method get_book_info() that returns a formatted string with the book's details.\n",
        "#ans\n",
        "class Book:\n",
        "    def __init__(self, title, author, year_published):\n",
        "        self.title = title\n",
        "        self.author = author\n",
        "        self.year_published = year_published\n",
        "\n",
        "    def get_book_info(self):\n",
        "        return f\"Title: {self.title}\\nAuthor: {self.author}\\nYear Published: {self.year_published}\"\n",
        "\n",
        "# ---- Example usage ----\n",
        "book1 = Book(\"1984\", \"George Orwell\", 1949)\n",
        "book2 = Book(\"To Kill a Mockingbird\", \"Harper Lee\", 1960)\n",
        "\n",
        "print(book1.get_book_info())\n",
        "print()\n",
        "print(book2.get_book_info())\n"
      ],
      "metadata": {
        "colab": {
          "base_uri": "https://localhost:8080/"
        },
        "id": "GP2QjKVVz-yX",
        "outputId": "a9c8fbae-8da2-4533-a48d-73436c37af5f"
      },
      "execution_count": 18,
      "outputs": [
        {
          "output_type": "stream",
          "name": "stdout",
          "text": [
            "Title: 1984\n",
            "Author: George Orwell\n",
            "Year Published: 1949\n",
            "\n",
            "Title: To Kill a Mockingbird\n",
            "Author: Harper Lee\n",
            "Year Published: 1960\n"
          ]
        }
      ]
    },
    {
      "cell_type": "code",
      "source": [
        "#18Create a class House with attributes address and price. Create a derived class Mansion that adds an attribute number_of_rooms.\n",
        "#ans\n",
        "# Base class House\n",
        "class House:\n",
        "    def __init__(self, address, price):\n",
        "        self.address = address\n",
        "        self.price = price\n",
        "\n",
        "    def display_info(self):\n",
        "        return f\"Address: {self.address}, Price: ${self.price}\"\n",
        "\n",
        "# Derived class Mansion that adds an additional attribute\n",
        "class Mansion(House):\n",
        "    def __init__(self, address, price, number_of_rooms):\n",
        "        # Call the constructor of the base class (House)\n",
        "        super().__init__(address, price)\n",
        "        self.number_of_rooms = number_of_rooms\n",
        "\n",
        "    def display_info(self):\n",
        "        # Call the base class method and add number_of_rooms\n",
        "        return f\"{super().display_info()}, Number of rooms: {self.number_of_rooms}\"\n",
        "\n",
        "# Example usage\n",
        "house = House(\"123 Elm St\", 250000)\n",
        "print(house.display_info())\n",
        "\n",
        "mansion = Mansion(\"456 Oak Ave\", 5000000, 10)\n",
        "print(mansion.display_info())\n"
      ],
      "metadata": {
        "colab": {
          "base_uri": "https://localhost:8080/"
        },
        "id": "gnJ_OcNp0L9h",
        "outputId": "ec47c090-2c39-478e-aa1d-ceba456c7809"
      },
      "execution_count": 19,
      "outputs": [
        {
          "output_type": "stream",
          "name": "stdout",
          "text": [
            "Address: 123 Elm St, Price: $250000\n",
            "Address: 456 Oak Ave, Price: $5000000, Number of rooms: 10\n"
          ]
        }
      ]
    },
    {
      "cell_type": "markdown",
      "source": [],
      "metadata": {
        "id": "HWvfl_ul0Y4M"
      }
    }
  ]
}